{
 "cells": [
  {
   "cell_type": "code",
   "execution_count": 8,
   "id": "34886223",
   "metadata": {},
   "outputs": [],
   "source": [
    "import pandas as pd\n",
    "import numpy as np\n",
    "from collections import Counter\n",
    "from sklearn.model_selection import train_test_split\n",
    "from imblearn.over_sampling import SMOTE, RandomOverSampler\n",
    "\n",
    "\n",
    "\n"
   ]
  },
  {
   "cell_type": "code",
   "execution_count": 9,
   "id": "4275250d",
   "metadata": {},
   "outputs": [],
   "source": [
    "# !pip install --upgrade scikit-learn imblearn"
   ]
  },
  {
   "cell_type": "code",
   "execution_count": 10,
   "id": "6224acf9",
   "metadata": {},
   "outputs": [
    {
     "name": "stdout",
     "output_type": "stream",
     "text": [
      "Data loaded successfully.\n"
     ]
    }
   ],
   "source": [
    "# 1. Load the cleaned data\n",
    "# Make sure the file 'cleaned_heart_disease_data.csv' is in the same directory\n",
    "try:\n",
    "    df = pd.read_csv('cleaned_heart_disease_data.csv')\n",
    "    print(\"Data loaded successfully.\")\n",
    "except FileNotFoundError:\n",
    "    print(\"Error: 'cleaned_heart_disease_data.csv' not found. Please ensure the file is in the correct path.\")\n",
    "    exit()"
   ]
  },
  {
   "cell_type": "code",
   "execution_count": 11,
   "id": "ffbd844d",
   "metadata": {},
   "outputs": [
    {
     "name": "stdout",
     "output_type": "stream",
     "text": [
      "\n",
      "Class distribution before oversampling:\n",
      "Counter({1: 509, 0: 411})\n"
     ]
    }
   ],
   "source": [
    "# 2. Define features (X) and target (y)\n",
    "X = df.drop('heart_disease', axis=1)  # All columns except the target\n",
    "y = df['heart_disease']               # The target column\n",
    "\n",
    "# 3. Check the class distribution before oversampling\n",
    "print(\"\\nClass distribution before oversampling:\")\n",
    "print(Counter(y))\n"
   ]
  },
  {
   "cell_type": "code",
   "execution_count": 12,
   "id": "d28e7649",
   "metadata": {},
   "outputs": [
    {
     "name": "stdout",
     "output_type": "stream",
     "text": [
      "\n",
      "Class distribution after oversampling (on training data):\n",
      "Counter({1: 400, 0: 400})\n",
      "\n",
      "Training and test sets are ready for model building.\n"
     ]
    }
   ],
   "source": [
    "# 4. Split the data into training and testing sets\n",
    "# We apply SMOTE only on the training data to avoid data leakage\n",
    "X_train, X_test, y_train, y_test = train_test_split(X, y, test_size=0.2, random_state=42)\n",
    "\n",
    "# 5. Apply SMOTE to the training data\n",
    "smote = SMOTE(random_state=42)\n",
    "X_train_resampled, y_train_resampled = smote.fit_resample(X_train, y_train)\n",
    "\n",
    "# 6. Check the class distribution after oversampling\n",
    "print(\"\\nClass distribution after oversampling (on training data):\")\n",
    "print(Counter(y_train_resampled))\n",
    "\n",
    "# Now you have a balanced training set: X_train_resampled and y_train_resampled\n",
    "# You will use this new data to train your Keras model.\n",
    "\n",
    "# The test set (X_test, y_test) remains untouched and unbalanced,\n",
    "# which is the correct way to evaluate the model's performance on real-world data.\n",
    "print(\"\\nTraining and test sets are ready for model building.\")\n"
   ]
  },
  {
   "cell_type": "code",
   "execution_count": 13,
   "id": "871973b9",
   "metadata": {},
   "outputs": [
    {
     "name": "stdout",
     "output_type": "stream",
     "text": [
      "\n",
      "Class distribution after RandomOverSampler (on training data):\n",
      "Counter({1: 400, 0: 400})\n"
     ]
    }
   ],
   "source": [
    "r= RandomOverSampler(random_state=42)\n",
    "X_train_resampled, y_train_resampled = r.fit_resample(X_train, y_train)\n",
    "print(\"\\nClass distribution after RandomOverSampler (on training data):\")\n",
    "print(Counter(y_train_resampled))\n"
   ]
  },
  {
   "cell_type": "code",
   "execution_count": null,
   "id": "33e4f0ad",
   "metadata": {},
   "outputs": [],
   "source": []
  }
 ],
 "metadata": {
  "kernelspec": {
   "display_name": "uda",
   "language": "python",
   "name": "python3"
  },
  "language_info": {
   "codemirror_mode": {
    "name": "ipython",
    "version": 3
   },
   "file_extension": ".py",
   "mimetype": "text/x-python",
   "name": "python",
   "nbconvert_exporter": "python",
   "pygments_lexer": "ipython3",
   "version": "3.11.13"
  }
 },
 "nbformat": 4,
 "nbformat_minor": 5
}
